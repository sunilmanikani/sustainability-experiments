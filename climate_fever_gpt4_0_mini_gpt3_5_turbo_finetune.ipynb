{
  "nbformat": 4,
  "nbformat_minor": 0,
  "metadata": {
    "colab": {
      "provenance": [],
      "machine_shape": "hm"
    },
    "kernelspec": {
      "name": "python3",
      "display_name": "Python 3"
    },
    "language_info": {
      "name": "python"
    }
  },
  "cells": [
    {
      "cell_type": "markdown",
      "source": [
        "GPT-4o mini FINE TUNING\n"
      ],
      "metadata": {
        "id": "DmYE_q3_Abi0"
      }
    },
    {
      "cell_type": "markdown",
      "source": [
        "NOW START"
      ],
      "metadata": {
        "id": "rvOMd3AwBwaH"
      }
    },
    {
      "cell_type": "code",
      "execution_count": null,
      "metadata": {
        "colab": {
          "base_uri": "https://localhost:8080/"
        },
        "id": "N464rQRYn2k9",
        "outputId": "3886115d-d1ad-4206-8db0-b404fd37f03b"
      },
      "outputs": [
        {
          "output_type": "stream",
          "name": "stdout",
          "text": [
            "Requirement already satisfied: openai in /usr/local/lib/python3.10/dist-packages (1.37.1)\n",
            "Requirement already satisfied: jsonlines in /usr/local/lib/python3.10/dist-packages (4.0.0)\n",
            "Requirement already satisfied: anyio<5,>=3.5.0 in /usr/local/lib/python3.10/dist-packages (from openai) (3.7.1)\n",
            "Requirement already satisfied: distro<2,>=1.7.0 in /usr/lib/python3/dist-packages (from openai) (1.7.0)\n",
            "Requirement already satisfied: httpx<1,>=0.23.0 in /usr/local/lib/python3.10/dist-packages (from openai) (0.27.0)\n",
            "Requirement already satisfied: pydantic<3,>=1.9.0 in /usr/local/lib/python3.10/dist-packages (from openai) (2.8.2)\n",
            "Requirement already satisfied: sniffio in /usr/local/lib/python3.10/dist-packages (from openai) (1.3.1)\n",
            "Requirement already satisfied: tqdm>4 in /usr/local/lib/python3.10/dist-packages (from openai) (4.66.4)\n",
            "Requirement already satisfied: typing-extensions<5,>=4.7 in /usr/local/lib/python3.10/dist-packages (from openai) (4.12.2)\n",
            "Requirement already satisfied: attrs>=19.2.0 in /usr/local/lib/python3.10/dist-packages (from jsonlines) (23.2.0)\n",
            "Requirement already satisfied: idna>=2.8 in /usr/local/lib/python3.10/dist-packages (from anyio<5,>=3.5.0->openai) (3.7)\n",
            "Requirement already satisfied: exceptiongroup in /usr/local/lib/python3.10/dist-packages (from anyio<5,>=3.5.0->openai) (1.2.2)\n",
            "Requirement already satisfied: certifi in /usr/local/lib/python3.10/dist-packages (from httpx<1,>=0.23.0->openai) (2024.7.4)\n",
            "Requirement already satisfied: httpcore==1.* in /usr/local/lib/python3.10/dist-packages (from httpx<1,>=0.23.0->openai) (1.0.5)\n",
            "Requirement already satisfied: h11<0.15,>=0.13 in /usr/local/lib/python3.10/dist-packages (from httpcore==1.*->httpx<1,>=0.23.0->openai) (0.14.0)\n",
            "Requirement already satisfied: annotated-types>=0.4.0 in /usr/local/lib/python3.10/dist-packages (from pydantic<3,>=1.9.0->openai) (0.7.0)\n",
            "Requirement already satisfied: pydantic-core==2.20.1 in /usr/local/lib/python3.10/dist-packages (from pydantic<3,>=1.9.0->openai) (2.20.1)\n"
          ]
        }
      ],
      "source": [
        "! pip install --upgrade openai jsonlines\n",
        "import shutil, os, subprocess\n"
      ]
    },
    {
      "cell_type": "code",
      "source": [
        "import os\n",
        "import time\n",
        "from google.colab import userdata\n",
        "OPENAI_API_KEY = userdata.get('OPENAI_API_KEY')\n",
        "os.environ[\"OPENAI_API_KEY\"] = OPENAI_API_KEY\n",
        "os.environ[\"OPENAI_MODEL_NAME\"] = model= 'gpt-3.5-turbo' # \"gpt-4o-mini-2024-07-18\" this is the string to fine tune gpt-4o-mini but we need to be tier 4.\n",
        "openai_api_key = api_key= OPENAI_API_TOKEN=  OPENAI_API_KEY"
      ],
      "metadata": {
        "id": "EVRFHVp7iS3M"
      },
      "execution_count": null,
      "outputs": []
    },
    {
      "cell_type": "code",
      "source": [
        "from openai import OpenAI\n",
        "import jsonlines\n",
        "client = OpenAI()"
      ],
      "metadata": {
        "id": "N5mxwawwHL9F"
      },
      "execution_count": null,
      "outputs": []
    },
    {
      "cell_type": "code",
      "source": [
        "%%time\n",
        "items = [\n",
        "    {\n",
        "        \"messages\": [\n",
        "            {\n",
        "                \"role\": \"system\",\n",
        "                \"content\": \"Given an environmental claim and supporting evidence classify the claim as a resulting dictionary {claim_status = '?'}, where '?' can be either SUPPORTS, REFUTES, NOT_ENOUGH_EVIDENCE, DISPUTED\"\n",
        "            },\n",
        "            {\n",
        "                \"role\": \"user\",\n",
        "                \"content\": \"Claim: Solar energy is more efficient than wind energy in terms of electricity generation. Evidence: [ { \\\"evidence_id\\\": \\\"Extinction risk from global warming:170\\\", \\\"evidence_label\\\": 2, \\\"article\\\": \\\"Extinction risk from global warming\\\", \\\"evidence\\\": \\\"Recent Research Shows Human Activity Driving Earth Towards Global Extinction Event\\\".}, { \\\"evidence_id\\\": \\\"Global warming:14\\\", \\\"evidence_label\\\": 0, \\\"article\\\": \\\"Global warming\\\", \\\"evidence\\\": \\\"Environmental impacts include the extinction or relocation of many species as their ecosystems change, most immediately the environments of coral reefs, mountains, and the Arctic.\\\"}]\"\n",
        "            },\n",
        "            {\n",
        "                \"role\": \"assistant\",\n",
        "                \"content\": \"{\\\"claim_status\\\": \\\"REFUTES\\\"}\"\n",
        "            }\n",
        "        ]\n",
        "    },\n",
        "    {\n",
        "        \"messages\": [\n",
        "            {\n",
        "                \"role\": \"system\",\n",
        "                \"content\": \"Given an environmental claim and supporting evidence classify the claim as a resulting dictionary {claim_status = '?'}, where '?' can be either SUPPORTS, REFUTES, NOT_ENOUGH_EVIDENCE, DISPUTED\"\n",
        "            },\n",
        "            {\n",
        "                \"role\": \"user\",\n",
        "                \"content\": \"Claim: Organic farming methods reduce greenhouse gas emissions compared to conventional agriculture. Evidence: [ { \\\"evidence_id\\\": \\\"Environmental Science and Technology:34\\\", \\\"evidence_label\\\": 0, \\\"article\\\": \\\"Environmental Science and Technology\\\", \\\"evidence\\\": \\\"Study finds organic farming reduces greenhouse gas emissions compared to conventional methods.\\\"}]\"\n",
        "            },\n",
        "            {\n",
        "                \"role\": \"assistant\",\n",
        "                \"content\": \"{\\\"claim_status\\\": \\\"SUPPORTS\\\"}\"\n",
        "            }\n",
        "        ]\n",
        "    },\n",
        "    {\n",
        "        \"messages\": [\n",
        "            {\n",
        "                \"role\": \"system\",\n",
        "                \"content\": \"Given an environmental claim and supporting evidence classify the claim as a resulting dictionary {claim_status = '?'}, where '?' can be either SUPPORTS, REFUTES, NOT_ENOUGH_EVIDENCE, DISPUTED\"\n",
        "            },\n",
        "            {\n",
        "                \"role\": \"user\",\n",
        "                \"content\": \"Claim: Deforestation is the leading cause of biodiversity loss worldwide. Evidence: [ { \\\"evidence_id\\\": \\\"Nature Ecology & Evolution:22\\\", \\\"evidence_label\\\": 0, \\\"article\\\": \\\"Nature Ecology & Evolution\\\", \\\"evidence\\\": \\\"Research confirms deforestation as the primary cause of biodiversity loss globally.\\\"}]\"\n",
        "            },\n",
        "            {\n",
        "                \"role\": \"assistant\",\n",
        "                \"content\": \"{\\\"claim_status\\\": \\\"SUPPORTS\\\"}\"\n",
        "            }\n",
        "        ]\n",
        "    },\n",
        "    {\n",
        "        \"messages\": [\n",
        "            {\n",
        "                \"role\": \"system\",\n",
        "                \"content\": \"Given an environmental claim and supporting evidence classify the claim as a resulting dictionary {claim_status = '?'}, where '?' can be either SUPPORTS, REFUTES, NOT_ENOUGH_EVIDENCE, DISPUTED\"\n",
        "            },\n",
        "            {\n",
        "                \"role\": \"user\",\n",
        "                \"content\": \"Claim: Climate change will lead to more frequent and severe hurricanes. Evidence: [ { \\\"evidence_id\\\": \\\"Climate Dynamics:45\\\", \\\"evidence_label\\\": 0, \\\"article\\\": \\\"Climate Dynamics\\\", \\\"evidence\\\": \\\"Research predicts increased frequency and severity of hurricanes due to climate change.\\\"}]\"\n",
        "            },\n",
        "            {\n",
        "                \"role\": \"assistant\",\n",
        "                \"content\": \"{\\\"claim_status\\\": \\\"SUPPORTS\\\"}\"\n",
        "            }\n",
        "        ]\n",
        "    },\n",
        "    {\n",
        "        \"messages\": [\n",
        "            {\n",
        "                \"role\": \"system\",\n",
        "                \"content\": \"Given an environmental claim and supporting evidence classify the claim as a resulting dictionary {claim_status = '?'}, where '?' can be either SUPPORTS, REFUTES, NOT_ENOUGH_EVIDENCE, DISPUTED\"\n",
        "            },\n",
        "            {\n",
        "                \"role\": \"user\",\n",
        "                \"content\": \"Claim: Urbanization has no significant impact on local climate patterns. Evidence: [ { \\\"evidence_id\\\": \\\"Environmental Research Letters:12\\\", \\\"evidence_label\\\": 2, \\\"article\\\": \\\"Environmental Research Letters\\\", \\\"evidence\\\": \\\"Study shows urbanization contributes to localized climate changes.\\\"}]\"\n",
        "            },\n",
        "            {\n",
        "                \"role\": \"assistant\",\n",
        "                \"content\": \"{\\\"claim_status\\\": \\\"REFUTES\\\"}\"\n",
        "            }\n",
        "        ]\n",
        "    },\n",
        "    {\n",
        "        \"messages\": [\n",
        "            {\n",
        "                \"role\": \"system\",\n",
        "                \"content\": \"Given an environmental claim and supporting evidence classify the claim as a resulting dictionary {claim_status = '?'}, where '?' can be either SUPPORTS, REFUTES, NOT_ENOUGH_EVIDENCE, DISPUTED\"\n",
        "            },\n",
        "            {\n",
        "                \"role\": \"user\",\n",
        "                \"content\": \"Claim: Marine pollution does not adversely affect marine ecosystems. Evidence: [ { \\\"evidence_id\\\": \\\"Marine Pollution Bulletin:88\\\", \\\"evidence_label\\\": 0, \\\"article\\\": \\\"Marine Pollution Bulletin\\\", \\\"evidence\\\": \\\"Research confirms adverse impacts of marine pollution on marine ecosystems.\\\"}]\"\n",
        "            },\n",
        "            {\n",
        "                \"role\": \"assistant\",\n",
        "                \"content\": \"{\\\"claim_status\\\": \\\"DISPUTED\\\"}\"\n",
        "            }\n",
        "        ]\n",
        "    }\n",
        "\n",
        "\n",
        "]\n",
        "\n",
        "\n",
        "\n",
        "with jsonlines.open('climate_fever.jsonl', 'w') as writer:\n",
        "    writer.write_all(items)"
      ],
      "metadata": {
        "colab": {
          "base_uri": "https://localhost:8080/"
        },
        "id": "prSU1CvWFiBI",
        "outputId": "a1964e93-52ce-472a-b240-45444d494559"
      },
      "execution_count": null,
      "outputs": [
        {
          "output_type": "stream",
          "name": "stdout",
          "text": [
            "CPU times: user 0 ns, sys: 571 µs, total: 571 µs\n",
            "Wall time: 2.32 ms\n"
          ]
        }
      ]
    },
    {
      "cell_type": "code",
      "source": [
        "with jsonlines.open(\"climate_fever.jsonl\") as file:\n",
        "    data = list(file.iter())\n",
        "\n",
        "print(data)"
      ],
      "metadata": {
        "colab": {
          "base_uri": "https://localhost:8080/"
        },
        "id": "sLVr0JFxRdee",
        "outputId": "87e31f7f-b6e7-4986-d8b8-b019ce981aba"
      },
      "execution_count": null,
      "outputs": [
        {
          "output_type": "stream",
          "name": "stdout",
          "text": [
            "[{'messages': [{'role': 'system', 'content': \"Given an environmental claim and supporting evidence classify the claim as a resulting dictionary {claim_status = '?'}, where '?' can be either SUPPORTS, REFUTES, NOT_ENOUGH_EVIDENCE, DISPUTED\"}, {'role': 'user', 'content': 'Claim: Solar energy is more efficient than wind energy in terms of electricity generation. Evidence: [ { \"evidence_id\": \"Extinction risk from global warming:170\", \"evidence_label\": 2, \"article\": \"Extinction risk from global warming\", \"evidence\": \"Recent Research Shows Human Activity Driving Earth Towards Global Extinction Event\".}, { \"evidence_id\": \"Global warming:14\", \"evidence_label\": 0, \"article\": \"Global warming\", \"evidence\": \"Environmental impacts include the extinction or relocation of many species as their ecosystems change, most immediately the environments of coral reefs, mountains, and the Arctic.\"}]'}, {'role': 'assistant', 'content': '{\"claim_status\": \"REFUTES\"}'}]}, {'messages': [{'role': 'system', 'content': \"Given an environmental claim and supporting evidence classify the claim as a resulting dictionary {claim_status = '?'}, where '?' can be either SUPPORTS, REFUTES, NOT_ENOUGH_EVIDENCE, DISPUTED\"}, {'role': 'user', 'content': 'Claim: Organic farming methods reduce greenhouse gas emissions compared to conventional agriculture. Evidence: [ { \"evidence_id\": \"Environmental Science and Technology:34\", \"evidence_label\": 0, \"article\": \"Environmental Science and Technology\", \"evidence\": \"Study finds organic farming reduces greenhouse gas emissions compared to conventional methods.\"}]'}, {'role': 'assistant', 'content': '{\"claim_status\": \"SUPPORTS\"}'}]}, {'messages': [{'role': 'system', 'content': \"Given an environmental claim and supporting evidence classify the claim as a resulting dictionary {claim_status = '?'}, where '?' can be either SUPPORTS, REFUTES, NOT_ENOUGH_EVIDENCE, DISPUTED\"}, {'role': 'user', 'content': 'Claim: Deforestation is the leading cause of biodiversity loss worldwide. Evidence: [ { \"evidence_id\": \"Nature Ecology & Evolution:22\", \"evidence_label\": 0, \"article\": \"Nature Ecology & Evolution\", \"evidence\": \"Research confirms deforestation as the primary cause of biodiversity loss globally.\"}]'}, {'role': 'assistant', 'content': '{\"claim_status\": \"SUPPORTS\"}'}]}, {'messages': [{'role': 'system', 'content': \"Given an environmental claim and supporting evidence classify the claim as a resulting dictionary {claim_status = '?'}, where '?' can be either SUPPORTS, REFUTES, NOT_ENOUGH_EVIDENCE, DISPUTED\"}, {'role': 'user', 'content': 'Claim: Climate change will lead to more frequent and severe hurricanes. Evidence: [ { \"evidence_id\": \"Climate Dynamics:45\", \"evidence_label\": 0, \"article\": \"Climate Dynamics\", \"evidence\": \"Research predicts increased frequency and severity of hurricanes due to climate change.\"}]'}, {'role': 'assistant', 'content': '{\"claim_status\": \"SUPPORTS\"}'}]}, {'messages': [{'role': 'system', 'content': \"Given an environmental claim and supporting evidence classify the claim as a resulting dictionary {claim_status = '?'}, where '?' can be either SUPPORTS, REFUTES, NOT_ENOUGH_EVIDENCE, DISPUTED\"}, {'role': 'user', 'content': 'Claim: Urbanization has no significant impact on local climate patterns. Evidence: [ { \"evidence_id\": \"Environmental Research Letters:12\", \"evidence_label\": 2, \"article\": \"Environmental Research Letters\", \"evidence\": \"Study shows urbanization contributes to localized climate changes.\"}]'}, {'role': 'assistant', 'content': '{\"claim_status\": \"REFUTES\"}'}]}, {'messages': [{'role': 'system', 'content': \"Given an environmental claim and supporting evidence classify the claim as a resulting dictionary {claim_status = '?'}, where '?' can be either SUPPORTS, REFUTES, NOT_ENOUGH_EVIDENCE, DISPUTED\"}, {'role': 'user', 'content': 'Claim: Marine pollution does not adversely affect marine ecosystems. Evidence: [ { \"evidence_id\": \"Marine Pollution Bulletin:88\", \"evidence_label\": 0, \"article\": \"Marine Pollution Bulletin\", \"evidence\": \"Research confirms adverse impacts of marine pollution on marine ecosystems.\"}]'}, {'role': 'assistant', 'content': '{\"claim_status\": \"DISPUTED\"}'}]}]\n"
          ]
        }
      ]
    },
    {
      "cell_type": "markdown",
      "source": [
        "Upload Training File"
      ],
      "metadata": {
        "id": "COAU-DoYHmUh"
      }
    },
    {
      "cell_type": "code",
      "source": [
        "result_file = client.files.create(\n",
        "  file=open(\"climate_fever.jsonl\", \"rb\"),\n",
        "  purpose=\"fine-tune\"\n",
        ")\n",
        "\n"
      ],
      "metadata": {
        "id": "WUaPX69WRrvD"
      },
      "execution_count": null,
      "outputs": []
    },
    {
      "cell_type": "code",
      "source": [
        "print(result_file)"
      ],
      "metadata": {
        "colab": {
          "base_uri": "https://localhost:8080/"
        },
        "id": "ZeViv9Qoje5j",
        "outputId": "2c01bd01-69c6-441e-8104-11998ce25857"
      },
      "execution_count": null,
      "outputs": [
        {
          "output_type": "stream",
          "name": "stdout",
          "text": [
            "FileObject(id='file-IrsWTDKIM6C3tzQncijY6Uwr', bytes=4283, created_at=1722325915, filename='climate_fever.jsonl', object='file', purpose='fine-tune', status='processed', status_details=None)\n"
          ]
        }
      ]
    },
    {
      "cell_type": "code",
      "source": [
        "param_training_file_name = result_file.id\n",
        "print(param_training_file_name)"
      ],
      "metadata": {
        "colab": {
          "base_uri": "https://localhost:8080/"
        },
        "id": "EnASFvjRS2x8",
        "outputId": "f962ad1a-14e5-45e6-cf23-1adaa5fb5160"
      },
      "execution_count": null,
      "outputs": [
        {
          "output_type": "stream",
          "name": "stdout",
          "text": [
            "file-IrsWTDKIM6C3tzQncijY6Uwr\n"
          ]
        }
      ]
    },
    {
      "cell_type": "markdown",
      "source": [
        "Create Fine Tuned Model"
      ],
      "metadata": {
        "id": "uRptJbFiJ1Nw"
      }
    },
    {
      "cell_type": "code",
      "source": [
        "result_job = client.fine_tuning.jobs.create(\n",
        "  training_file=param_training_file_name,\n",
        "  model=model\n",
        ")\n",
        "\n",
        "print(result_job)"
      ],
      "metadata": {
        "colab": {
          "base_uri": "https://localhost:8080/"
        },
        "id": "3QVfMmAqSyGd",
        "outputId": "a550eed6-0a01-4360-bd11-f002de2b9bb5"
      },
      "execution_count": null,
      "outputs": [
        {
          "output_type": "stream",
          "name": "stdout",
          "text": [
            "FineTuningJob(id='ftjob-NVwz1qFNtnCUvDjCtJhXk8w1', created_at=1722325964, error=Error(code=None, message=None, param=None), fine_tuned_model=None, finished_at=None, hyperparameters=Hyperparameters(n_epochs='auto', batch_size='auto', learning_rate_multiplier='auto'), model='gpt-3.5-turbo-0125', object='fine_tuning.job', organization_id='org-VyzJu1Xt99Tcicrm5vqAfYoC', result_files=[], seed=1121280702, status='validating_files', trained_tokens=None, training_file='file-IrsWTDKIM6C3tzQncijY6Uwr', validation_file=None, estimated_finish=None, integrations=[], user_provided_suffix=None)\n"
          ]
        }
      ]
    },
    {
      "cell_type": "code",
      "source": [
        "param_file_tune_job_id = result_job.id\n",
        "print(param_file_tune_job_id)"
      ],
      "metadata": {
        "colab": {
          "base_uri": "https://localhost:8080/"
        },
        "id": "eOT_bRF0Thf0",
        "outputId": "f1298f2a-6a70-493c-f7d1-6657e368e358"
      },
      "execution_count": null,
      "outputs": [
        {
          "output_type": "stream",
          "name": "stdout",
          "text": [
            "ftjob-NVwz1qFNtnCUvDjCtJhXk8w1\n"
          ]
        }
      ]
    },
    {
      "cell_type": "markdown",
      "source": [
        "Retrieve the state of a fine-tune"
      ],
      "metadata": {
        "id": "bVDddjp_Td9e"
      }
    },
    {
      "cell_type": "code",
      "source": [
        "# Retrieve the state of a fine-tune\n",
        "client.fine_tuning.jobs.retrieve(param_file_tune_job_id)"
      ],
      "metadata": {
        "colab": {
          "base_uri": "https://localhost:8080/"
        },
        "id": "ivkIrTnVTdSZ",
        "outputId": "363779d2-80fa-495d-edb9-89c713d9e906"
      },
      "execution_count": null,
      "outputs": [
        {
          "output_type": "execute_result",
          "data": {
            "text/plain": [
              "FineTuningJob(id='ftjob-NVwz1qFNtnCUvDjCtJhXk8w1', created_at=1722325964, error=Error(code=None, message=None, param=None), fine_tuned_model=None, finished_at=None, hyperparameters=Hyperparameters(n_epochs='auto', batch_size='auto', learning_rate_multiplier='auto'), model='gpt-3.5-turbo-0125', object='fine_tuning.job', organization_id='org-VyzJu1Xt99Tcicrm5vqAfYoC', result_files=[], seed=1121280702, status='validating_files', trained_tokens=None, training_file='file-IrsWTDKIM6C3tzQncijY6Uwr', validation_file=None, estimated_finish=None, integrations=[], user_provided_suffix=None)"
            ]
          },
          "metadata": {},
          "execution_count": 35
        }
      ]
    },
    {
      "cell_type": "code",
      "source": [
        "# Retrieve the state of a fine-tune\n",
        "client.fine_tuning.jobs.retrieve(param_file_tune_job_id).status"
      ],
      "metadata": {
        "colab": {
          "base_uri": "https://localhost:8080/",
          "height": 37
        },
        "id": "1GuK93ldWIkk",
        "outputId": "567e5c69-658b-49ee-a45f-75be78071ac6"
      },
      "execution_count": null,
      "outputs": [
        {
          "output_type": "execute_result",
          "data": {
            "text/plain": [
              "'running'"
            ],
            "application/vnd.google.colaboratory.intrinsic+json": {
              "type": "string"
            }
          },
          "metadata": {},
          "execution_count": 36
        }
      ]
    },
    {
      "cell_type": "code",
      "source": [
        "# Retrieve the state of a fine-tune\n",
        "from time import sleep\n",
        "while client.fine_tuning.jobs.retrieve(param_file_tune_job_id).status != 'succeeded':\n",
        "  sleep(10)\n"
      ],
      "metadata": {
        "id": "ZWrbTKkkWJEH"
      },
      "execution_count": null,
      "outputs": []
    },
    {
      "cell_type": "code",
      "source": [
        "# Retrieve the state of a fine-tune\n",
        "client.fine_tuning.jobs.retrieve(param_file_tune_job_id).status"
      ],
      "metadata": {
        "id": "F9ziD3GwYDc9"
      },
      "execution_count": null,
      "outputs": []
    },
    {
      "cell_type": "code",
      "source": [
        "param_file_tune_model = client.fine_tuning.jobs.retrieve(param_file_tune_job_id).fine_tuned_model\n",
        "print(param_file_tune_model)"
      ],
      "metadata": {
        "id": "b0wUHuYuZkmy"
      },
      "execution_count": null,
      "outputs": []
    },
    {
      "cell_type": "markdown",
      "source": [
        "RESULTS"
      ],
      "metadata": {
        "id": "66i-xEoBZ46Y"
      }
    },
    {
      "cell_type": "code",
      "source": [
        "completion = client.chat.completions.create(\n",
        "  model=param_file_tune_model,\n",
        "  messages=[\n",
        "\n",
        "     {\n",
        "                \"role\": \"system\",\n",
        "                \"content\": \"Claim: Solar energy is more efficient than wind energy in terms of electricity generation\"\n",
        "            }\n",
        "  ]\n",
        ")\n"
      ],
      "metadata": {
        "id": "2ViVjrogZ6yl"
      },
      "execution_count": null,
      "outputs": []
    },
    {
      "cell_type": "code",
      "source": [
        "# Delete a fine-tuned model (must be an owner of the org the model was created in)\n",
        "result_delete = client.models.delete(param_file_tune_model)\n",
        "print(result_delete)"
      ],
      "metadata": {
        "id": "x_OUYZ1na4b1"
      },
      "execution_count": null,
      "outputs": []
    }
  ]
}